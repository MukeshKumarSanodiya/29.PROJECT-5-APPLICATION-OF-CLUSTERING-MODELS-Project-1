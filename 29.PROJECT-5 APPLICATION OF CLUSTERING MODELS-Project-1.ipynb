{
 "cells": [
  {
   "cell_type": "markdown",
   "metadata": {},
   "source": [
    "# Mukesh Kumar Sanodiya (18-Apr-2019)"
   ]
  },
  {
   "cell_type": "markdown",
   "metadata": {},
   "source": [
    "# 29.PROJECT-5 APPLICATION OF CLUSTERING MODELS-Project-1"
   ]
  },
  {
   "cell_type": "code",
   "execution_count": 1,
   "metadata": {},
   "outputs": [],
   "source": [
    "import pandas as pd\n",
    "from pandas import datetime\n",
    "import matplotlib.pyplot as plt\n",
    "%matplotlib inline"
   ]
  },
  {
   "cell_type": "code",
   "execution_count": 2,
   "metadata": {},
   "outputs": [],
   "source": [
    "ds = pd.read_csv(\"data_stocks.csv\")"
   ]
  },
  {
   "cell_type": "code",
   "execution_count": 3,
   "metadata": {},
   "outputs": [
    {
     "data": {
      "text/plain": [
       "dtype('int64')"
      ]
     },
     "execution_count": 3,
     "metadata": {},
     "output_type": "execute_result"
    }
   ],
   "source": [
    "ds['DATE'].dtypes"
   ]
  },
  {
   "cell_type": "code",
   "execution_count": 4,
   "metadata": {},
   "outputs": [],
   "source": [
    "ds['DATE'] = pd.to_datetime(ds['DATE'], unit='s')"
   ]
  },
  {
   "cell_type": "code",
   "execution_count": 5,
   "metadata": {},
   "outputs": [
    {
     "data": {
      "text/plain": [
       "41261   2017-08-31 19:56:00\n",
       "41262   2017-08-31 19:57:00\n",
       "41263   2017-08-31 19:58:00\n",
       "41264   2017-08-31 19:59:00\n",
       "41265   2017-08-31 20:00:00\n",
       "Name: DATE, dtype: datetime64[ns]"
      ]
     },
     "execution_count": 5,
     "metadata": {},
     "output_type": "execute_result"
    }
   ],
   "source": [
    "ds['DATE'].tail()"
   ]
  },
  {
   "cell_type": "code",
   "execution_count": 6,
   "metadata": {},
   "outputs": [],
   "source": [
    "ds.index = ds['DATE']"
   ]
  },
  {
   "cell_type": "code",
   "execution_count": 7,
   "metadata": {},
   "outputs": [],
   "source": [
    "ds.drop('DATE',axis = 1,inplace=True)"
   ]
  },
  {
   "cell_type": "code",
   "execution_count": 8,
   "metadata": {},
   "outputs": [
    {
     "data": {
      "text/html": [
       "<div>\n",
       "<style scoped>\n",
       "    .dataframe tbody tr th:only-of-type {\n",
       "        vertical-align: middle;\n",
       "    }\n",
       "\n",
       "    .dataframe tbody tr th {\n",
       "        vertical-align: top;\n",
       "    }\n",
       "\n",
       "    .dataframe thead th {\n",
       "        text-align: right;\n",
       "    }\n",
       "</style>\n",
       "<table border=\"1\" class=\"dataframe\">\n",
       "  <thead>\n",
       "    <tr style=\"text-align: right;\">\n",
       "      <th></th>\n",
       "      <th>SP500</th>\n",
       "      <th>NASDAQ.AAL</th>\n",
       "      <th>NASDAQ.AAPL</th>\n",
       "      <th>NASDAQ.ADBE</th>\n",
       "      <th>NASDAQ.ADI</th>\n",
       "      <th>NASDAQ.ADP</th>\n",
       "      <th>NASDAQ.ADSK</th>\n",
       "      <th>NASDAQ.AKAM</th>\n",
       "      <th>NASDAQ.ALXN</th>\n",
       "      <th>NASDAQ.AMAT</th>\n",
       "      <th>...</th>\n",
       "      <th>NYSE.WYN</th>\n",
       "      <th>NYSE.XEC</th>\n",
       "      <th>NYSE.XEL</th>\n",
       "      <th>NYSE.XL</th>\n",
       "      <th>NYSE.XOM</th>\n",
       "      <th>NYSE.XRX</th>\n",
       "      <th>NYSE.XYL</th>\n",
       "      <th>NYSE.YUM</th>\n",
       "      <th>NYSE.ZBH</th>\n",
       "      <th>NYSE.ZTS</th>\n",
       "    </tr>\n",
       "    <tr>\n",
       "      <th>DATE</th>\n",
       "      <th></th>\n",
       "      <th></th>\n",
       "      <th></th>\n",
       "      <th></th>\n",
       "      <th></th>\n",
       "      <th></th>\n",
       "      <th></th>\n",
       "      <th></th>\n",
       "      <th></th>\n",
       "      <th></th>\n",
       "      <th></th>\n",
       "      <th></th>\n",
       "      <th></th>\n",
       "      <th></th>\n",
       "      <th></th>\n",
       "      <th></th>\n",
       "      <th></th>\n",
       "      <th></th>\n",
       "      <th></th>\n",
       "      <th></th>\n",
       "      <th></th>\n",
       "    </tr>\n",
       "  </thead>\n",
       "  <tbody>\n",
       "    <tr>\n",
       "      <th>2017-08-31 19:56:00</th>\n",
       "      <td>2472.22</td>\n",
       "      <td>44.72</td>\n",
       "      <td>164.11</td>\n",
       "      <td>155.090</td>\n",
       "      <td>83.67</td>\n",
       "      <td>106.565</td>\n",
       "      <td>114.49</td>\n",
       "      <td>47.150</td>\n",
       "      <td>142.425</td>\n",
       "      <td>45.130</td>\n",
       "      <td>...</td>\n",
       "      <td>99.675</td>\n",
       "      <td>99.53</td>\n",
       "      <td>49.485</td>\n",
       "      <td>40.955</td>\n",
       "      <td>76.360</td>\n",
       "      <td>32.285</td>\n",
       "      <td>62.110</td>\n",
       "      <td>76.88</td>\n",
       "      <td>114.31</td>\n",
       "      <td>62.7250</td>\n",
       "    </tr>\n",
       "    <tr>\n",
       "      <th>2017-08-31 19:57:00</th>\n",
       "      <td>2471.77</td>\n",
       "      <td>44.73</td>\n",
       "      <td>164.12</td>\n",
       "      <td>155.160</td>\n",
       "      <td>83.65</td>\n",
       "      <td>106.590</td>\n",
       "      <td>114.52</td>\n",
       "      <td>47.150</td>\n",
       "      <td>142.450</td>\n",
       "      <td>45.130</td>\n",
       "      <td>...</td>\n",
       "      <td>99.730</td>\n",
       "      <td>99.63</td>\n",
       "      <td>49.480</td>\n",
       "      <td>40.960</td>\n",
       "      <td>76.370</td>\n",
       "      <td>32.295</td>\n",
       "      <td>62.100</td>\n",
       "      <td>76.90</td>\n",
       "      <td>114.33</td>\n",
       "      <td>62.7100</td>\n",
       "    </tr>\n",
       "    <tr>\n",
       "      <th>2017-08-31 19:58:00</th>\n",
       "      <td>2470.03</td>\n",
       "      <td>44.74</td>\n",
       "      <td>164.01</td>\n",
       "      <td>155.065</td>\n",
       "      <td>83.62</td>\n",
       "      <td>106.520</td>\n",
       "      <td>114.47</td>\n",
       "      <td>47.150</td>\n",
       "      <td>142.330</td>\n",
       "      <td>45.135</td>\n",
       "      <td>...</td>\n",
       "      <td>99.735</td>\n",
       "      <td>99.64</td>\n",
       "      <td>49.495</td>\n",
       "      <td>40.940</td>\n",
       "      <td>76.315</td>\n",
       "      <td>32.290</td>\n",
       "      <td>62.090</td>\n",
       "      <td>76.88</td>\n",
       "      <td>114.31</td>\n",
       "      <td>62.6850</td>\n",
       "    </tr>\n",
       "    <tr>\n",
       "      <th>2017-08-31 19:59:00</th>\n",
       "      <td>2471.49</td>\n",
       "      <td>44.71</td>\n",
       "      <td>163.88</td>\n",
       "      <td>154.960</td>\n",
       "      <td>83.58</td>\n",
       "      <td>106.400</td>\n",
       "      <td>114.33</td>\n",
       "      <td>47.135</td>\n",
       "      <td>142.170</td>\n",
       "      <td>45.065</td>\n",
       "      <td>...</td>\n",
       "      <td>99.700</td>\n",
       "      <td>99.63</td>\n",
       "      <td>49.485</td>\n",
       "      <td>40.925</td>\n",
       "      <td>76.300</td>\n",
       "      <td>32.275</td>\n",
       "      <td>62.075</td>\n",
       "      <td>76.83</td>\n",
       "      <td>114.23</td>\n",
       "      <td>62.6301</td>\n",
       "    </tr>\n",
       "    <tr>\n",
       "      <th>2017-08-31 20:00:00</th>\n",
       "      <td>2471.49</td>\n",
       "      <td>44.74</td>\n",
       "      <td>163.98</td>\n",
       "      <td>155.160</td>\n",
       "      <td>83.69</td>\n",
       "      <td>106.470</td>\n",
       "      <td>114.46</td>\n",
       "      <td>47.150</td>\n",
       "      <td>142.410</td>\n",
       "      <td>45.120</td>\n",
       "      <td>...</td>\n",
       "      <td>99.670</td>\n",
       "      <td>99.64</td>\n",
       "      <td>49.490</td>\n",
       "      <td>40.940</td>\n",
       "      <td>76.320</td>\n",
       "      <td>32.270</td>\n",
       "      <td>62.070</td>\n",
       "      <td>76.81</td>\n",
       "      <td>114.28</td>\n",
       "      <td>62.6800</td>\n",
       "    </tr>\n",
       "  </tbody>\n",
       "</table>\n",
       "<p>5 rows × 501 columns</p>\n",
       "</div>"
      ],
      "text/plain": [
       "                       SP500  NASDAQ.AAL  NASDAQ.AAPL  NASDAQ.ADBE  \\\n",
       "DATE                                                                 \n",
       "2017-08-31 19:56:00  2472.22       44.72       164.11      155.090   \n",
       "2017-08-31 19:57:00  2471.77       44.73       164.12      155.160   \n",
       "2017-08-31 19:58:00  2470.03       44.74       164.01      155.065   \n",
       "2017-08-31 19:59:00  2471.49       44.71       163.88      154.960   \n",
       "2017-08-31 20:00:00  2471.49       44.74       163.98      155.160   \n",
       "\n",
       "                     NASDAQ.ADI  NASDAQ.ADP  NASDAQ.ADSK  NASDAQ.AKAM  \\\n",
       "DATE                                                                    \n",
       "2017-08-31 19:56:00       83.67     106.565       114.49       47.150   \n",
       "2017-08-31 19:57:00       83.65     106.590       114.52       47.150   \n",
       "2017-08-31 19:58:00       83.62     106.520       114.47       47.150   \n",
       "2017-08-31 19:59:00       83.58     106.400       114.33       47.135   \n",
       "2017-08-31 20:00:00       83.69     106.470       114.46       47.150   \n",
       "\n",
       "                     NASDAQ.ALXN  NASDAQ.AMAT    ...     NYSE.WYN  NYSE.XEC  \\\n",
       "DATE                                             ...                          \n",
       "2017-08-31 19:56:00      142.425       45.130    ...       99.675     99.53   \n",
       "2017-08-31 19:57:00      142.450       45.130    ...       99.730     99.63   \n",
       "2017-08-31 19:58:00      142.330       45.135    ...       99.735     99.64   \n",
       "2017-08-31 19:59:00      142.170       45.065    ...       99.700     99.63   \n",
       "2017-08-31 20:00:00      142.410       45.120    ...       99.670     99.64   \n",
       "\n",
       "                     NYSE.XEL  NYSE.XL  NYSE.XOM  NYSE.XRX  NYSE.XYL  \\\n",
       "DATE                                                                   \n",
       "2017-08-31 19:56:00    49.485   40.955    76.360    32.285    62.110   \n",
       "2017-08-31 19:57:00    49.480   40.960    76.370    32.295    62.100   \n",
       "2017-08-31 19:58:00    49.495   40.940    76.315    32.290    62.090   \n",
       "2017-08-31 19:59:00    49.485   40.925    76.300    32.275    62.075   \n",
       "2017-08-31 20:00:00    49.490   40.940    76.320    32.270    62.070   \n",
       "\n",
       "                     NYSE.YUM  NYSE.ZBH  NYSE.ZTS  \n",
       "DATE                                               \n",
       "2017-08-31 19:56:00     76.88    114.31   62.7250  \n",
       "2017-08-31 19:57:00     76.90    114.33   62.7100  \n",
       "2017-08-31 19:58:00     76.88    114.31   62.6850  \n",
       "2017-08-31 19:59:00     76.83    114.23   62.6301  \n",
       "2017-08-31 20:00:00     76.81    114.28   62.6800  \n",
       "\n",
       "[5 rows x 501 columns]"
      ]
     },
     "execution_count": 8,
     "metadata": {},
     "output_type": "execute_result"
    }
   ],
   "source": [
    "ds.tail()"
   ]
  },
  {
   "cell_type": "code",
   "execution_count": 9,
   "metadata": {},
   "outputs": [],
   "source": [
    "ds_AAPL = ds[['NASDAQ.AAPL']].copy()"
   ]
  },
  {
   "cell_type": "code",
   "execution_count": 10,
   "metadata": {},
   "outputs": [
    {
     "data": {
      "text/html": [
       "<div>\n",
       "<style scoped>\n",
       "    .dataframe tbody tr th:only-of-type {\n",
       "        vertical-align: middle;\n",
       "    }\n",
       "\n",
       "    .dataframe tbody tr th {\n",
       "        vertical-align: top;\n",
       "    }\n",
       "\n",
       "    .dataframe thead th {\n",
       "        text-align: right;\n",
       "    }\n",
       "</style>\n",
       "<table border=\"1\" class=\"dataframe\">\n",
       "  <thead>\n",
       "    <tr style=\"text-align: right;\">\n",
       "      <th></th>\n",
       "      <th>NASDAQ.AAPL</th>\n",
       "    </tr>\n",
       "    <tr>\n",
       "      <th>DATE</th>\n",
       "      <th></th>\n",
       "    </tr>\n",
       "  </thead>\n",
       "  <tbody>\n",
       "    <tr>\n",
       "      <th>2017-08-31 19:56:00</th>\n",
       "      <td>164.11</td>\n",
       "    </tr>\n",
       "    <tr>\n",
       "      <th>2017-08-31 19:57:00</th>\n",
       "      <td>164.12</td>\n",
       "    </tr>\n",
       "    <tr>\n",
       "      <th>2017-08-31 19:58:00</th>\n",
       "      <td>164.01</td>\n",
       "    </tr>\n",
       "    <tr>\n",
       "      <th>2017-08-31 19:59:00</th>\n",
       "      <td>163.88</td>\n",
       "    </tr>\n",
       "    <tr>\n",
       "      <th>2017-08-31 20:00:00</th>\n",
       "      <td>163.98</td>\n",
       "    </tr>\n",
       "  </tbody>\n",
       "</table>\n",
       "</div>"
      ],
      "text/plain": [
       "                     NASDAQ.AAPL\n",
       "DATE                            \n",
       "2017-08-31 19:56:00       164.11\n",
       "2017-08-31 19:57:00       164.12\n",
       "2017-08-31 19:58:00       164.01\n",
       "2017-08-31 19:59:00       163.88\n",
       "2017-08-31 20:00:00       163.98"
      ]
     },
     "execution_count": 10,
     "metadata": {},
     "output_type": "execute_result"
    }
   ],
   "source": [
    "ds_AAPL.tail()"
   ]
  },
  {
   "cell_type": "code",
   "execution_count": 11,
   "metadata": {},
   "outputs": [
    {
     "data": {
      "text/plain": [
       "NASDAQ.AAPL    41266\n",
       "dtype: int64"
      ]
     },
     "execution_count": 11,
     "metadata": {},
     "output_type": "execute_result"
    }
   ],
   "source": [
    "ds_AAPL.count()"
   ]
  },
  {
   "cell_type": "code",
   "execution_count": 12,
   "metadata": {},
   "outputs": [
    {
     "data": {
      "text/plain": [
       "<matplotlib.axes._subplots.AxesSubplot at 0xea1be80>"
      ]
     },
     "execution_count": 12,
     "metadata": {},
     "output_type": "execute_result"
    },
    {
     "data": {
      "image/png": "[encoded data removed]",
      "text/plain": [
       "<Figure size 432x288 with 1 Axes>"
      ]
     },
     "metadata": {
      "needs_background": "light"
     },
     "output_type": "display_data"
    }
   ],
   "source": [
    "ds_AAPL.plot()"
   ]
  },
  {
   "cell_type": "code",
   "execution_count": 13,
   "metadata": {},
   "outputs": [
    {
     "data": {
      "image/png": "[encoded data removed]",
      "text/plain": [
       "<Figure size 432x288 with 1 Axes>"
      ]
     },
     "execution_count": 13,
     "metadata": {},
     "output_type": "execute_result"
    },
    {
     "data": {
      "image/png": "[encoded data removed]",
      "text/plain": [
       "<Figure size 432x288 with 1 Axes>"
      ]
     },
     "metadata": {
      "needs_background": "light"
     },
     "output_type": "display_data"
    }
   ],
   "source": [
    "from statsmodels.graphics.tsaplots import plot_acf\n",
    "plot_acf(ds_AAPL)"
   ]
  },
  {
   "cell_type": "markdown",
   "metadata": {},
   "source": [
    "# Converting series to stationary"
   ]
  },
  {
   "cell_type": "code",
   "execution_count": 14,
   "metadata": {},
   "outputs": [
    {
     "data": {
      "text/html": [
       "<div>\n",
       "<style scoped>\n",
       "    .dataframe tbody tr th:only-of-type {\n",
       "        vertical-align: middle;\n",
       "    }\n",
       "\n",
       "    .dataframe tbody tr th {\n",
       "        vertical-align: top;\n",
       "    }\n",
       "\n",
       "    .dataframe thead th {\n",
       "        text-align: right;\n",
       "    }\n",
       "</style>\n",
       "<table border=\"1\" class=\"dataframe\">\n",
       "  <thead>\n",
       "    <tr style=\"text-align: right;\">\n",
       "      <th></th>\n",
       "      <th>NASDAQ.AAPL</th>\n",
       "    </tr>\n",
       "    <tr>\n",
       "      <th>DATE</th>\n",
       "      <th></th>\n",
       "    </tr>\n",
       "  </thead>\n",
       "  <tbody>\n",
       "    <tr>\n",
       "      <th>2017-04-03 13:30:00</th>\n",
       "      <td>NaN</td>\n",
       "    </tr>\n",
       "    <tr>\n",
       "      <th>2017-04-03 13:31:00</th>\n",
       "      <td>143.6800</td>\n",
       "    </tr>\n",
       "    <tr>\n",
       "      <th>2017-04-03 13:32:00</th>\n",
       "      <td>143.7000</td>\n",
       "    </tr>\n",
       "    <tr>\n",
       "      <th>2017-04-03 13:33:00</th>\n",
       "      <td>143.6901</td>\n",
       "    </tr>\n",
       "    <tr>\n",
       "      <th>2017-04-03 13:34:00</th>\n",
       "      <td>143.6400</td>\n",
       "    </tr>\n",
       "    <tr>\n",
       "      <th>2017-04-03 13:35:00</th>\n",
       "      <td>143.6600</td>\n",
       "    </tr>\n",
       "    <tr>\n",
       "      <th>2017-04-03 13:36:00</th>\n",
       "      <td>143.7800</td>\n",
       "    </tr>\n",
       "    <tr>\n",
       "      <th>2017-04-03 13:37:00</th>\n",
       "      <td>143.8640</td>\n",
       "    </tr>\n",
       "    <tr>\n",
       "      <th>2017-04-03 13:38:00</th>\n",
       "      <td>143.8100</td>\n",
       "    </tr>\n",
       "    <tr>\n",
       "      <th>2017-04-03 13:39:00</th>\n",
       "      <td>143.8150</td>\n",
       "    </tr>\n",
       "    <tr>\n",
       "      <th>2017-04-03 13:40:00</th>\n",
       "      <td>143.8000</td>\n",
       "    </tr>\n",
       "    <tr>\n",
       "      <th>2017-04-03 13:41:00</th>\n",
       "      <td>143.8900</td>\n",
       "    </tr>\n",
       "    <tr>\n",
       "      <th>2017-04-03 13:42:00</th>\n",
       "      <td>143.9700</td>\n",
       "    </tr>\n",
       "    <tr>\n",
       "      <th>2017-04-03 13:43:00</th>\n",
       "      <td>143.9199</td>\n",
       "    </tr>\n",
       "    <tr>\n",
       "      <th>2017-04-03 13:44:00</th>\n",
       "      <td>144.0239</td>\n",
       "    </tr>\n",
       "    <tr>\n",
       "      <th>2017-04-03 13:45:00</th>\n",
       "      <td>144.0500</td>\n",
       "    </tr>\n",
       "    <tr>\n",
       "      <th>2017-04-03 13:46:00</th>\n",
       "      <td>144.0638</td>\n",
       "    </tr>\n",
       "    <tr>\n",
       "      <th>2017-04-03 13:47:00</th>\n",
       "      <td>144.0200</td>\n",
       "    </tr>\n",
       "    <tr>\n",
       "      <th>2017-04-03 13:48:00</th>\n",
       "      <td>144.0200</td>\n",
       "    </tr>\n",
       "    <tr>\n",
       "      <th>2017-04-03 13:49:00</th>\n",
       "      <td>143.9700</td>\n",
       "    </tr>\n",
       "    <tr>\n",
       "      <th>2017-04-03 13:50:00</th>\n",
       "      <td>144.0300</td>\n",
       "    </tr>\n",
       "    <tr>\n",
       "      <th>2017-04-03 13:51:00</th>\n",
       "      <td>143.9800</td>\n",
       "    </tr>\n",
       "    <tr>\n",
       "      <th>2017-04-03 13:52:00</th>\n",
       "      <td>143.9000</td>\n",
       "    </tr>\n",
       "    <tr>\n",
       "      <th>2017-04-03 13:53:00</th>\n",
       "      <td>143.9100</td>\n",
       "    </tr>\n",
       "    <tr>\n",
       "      <th>2017-04-03 13:54:00</th>\n",
       "      <td>143.9100</td>\n",
       "    </tr>\n",
       "    <tr>\n",
       "      <th>2017-04-03 13:55:00</th>\n",
       "      <td>143.8600</td>\n",
       "    </tr>\n",
       "    <tr>\n",
       "      <th>2017-04-03 13:56:00</th>\n",
       "      <td>143.8600</td>\n",
       "    </tr>\n",
       "    <tr>\n",
       "      <th>2017-04-03 13:57:00</th>\n",
       "      <td>143.8935</td>\n",
       "    </tr>\n",
       "    <tr>\n",
       "      <th>2017-04-03 13:58:00</th>\n",
       "      <td>143.9300</td>\n",
       "    </tr>\n",
       "    <tr>\n",
       "      <th>2017-04-03 13:59:00</th>\n",
       "      <td>143.9500</td>\n",
       "    </tr>\n",
       "    <tr>\n",
       "      <th>...</th>\n",
       "      <td>...</td>\n",
       "    </tr>\n",
       "    <tr>\n",
       "      <th>2017-08-31 19:31:00</th>\n",
       "      <td>164.0700</td>\n",
       "    </tr>\n",
       "    <tr>\n",
       "      <th>2017-08-31 19:32:00</th>\n",
       "      <td>164.0700</td>\n",
       "    </tr>\n",
       "    <tr>\n",
       "      <th>2017-08-31 19:33:00</th>\n",
       "      <td>164.0750</td>\n",
       "    </tr>\n",
       "    <tr>\n",
       "      <th>2017-08-31 19:34:00</th>\n",
       "      <td>164.1500</td>\n",
       "    </tr>\n",
       "    <tr>\n",
       "      <th>2017-08-31 19:35:00</th>\n",
       "      <td>164.1300</td>\n",
       "    </tr>\n",
       "    <tr>\n",
       "      <th>2017-08-31 19:36:00</th>\n",
       "      <td>164.1400</td>\n",
       "    </tr>\n",
       "    <tr>\n",
       "      <th>2017-08-31 19:37:00</th>\n",
       "      <td>164.1450</td>\n",
       "    </tr>\n",
       "    <tr>\n",
       "      <th>2017-08-31 19:38:00</th>\n",
       "      <td>164.2050</td>\n",
       "    </tr>\n",
       "    <tr>\n",
       "      <th>2017-08-31 19:39:00</th>\n",
       "      <td>164.2350</td>\n",
       "    </tr>\n",
       "    <tr>\n",
       "      <th>2017-08-31 19:40:00</th>\n",
       "      <td>164.2900</td>\n",
       "    </tr>\n",
       "    <tr>\n",
       "      <th>2017-08-31 19:41:00</th>\n",
       "      <td>164.2800</td>\n",
       "    </tr>\n",
       "    <tr>\n",
       "      <th>2017-08-31 19:42:00</th>\n",
       "      <td>164.2600</td>\n",
       "    </tr>\n",
       "    <tr>\n",
       "      <th>2017-08-31 19:43:00</th>\n",
       "      <td>164.2634</td>\n",
       "    </tr>\n",
       "    <tr>\n",
       "      <th>2017-08-31 19:44:00</th>\n",
       "      <td>164.2400</td>\n",
       "    </tr>\n",
       "    <tr>\n",
       "      <th>2017-08-31 19:45:00</th>\n",
       "      <td>164.2700</td>\n",
       "    </tr>\n",
       "    <tr>\n",
       "      <th>2017-08-31 19:46:00</th>\n",
       "      <td>164.2000</td>\n",
       "    </tr>\n",
       "    <tr>\n",
       "      <th>2017-08-31 19:47:00</th>\n",
       "      <td>164.1350</td>\n",
       "    </tr>\n",
       "    <tr>\n",
       "      <th>2017-08-31 19:48:00</th>\n",
       "      <td>164.1800</td>\n",
       "    </tr>\n",
       "    <tr>\n",
       "      <th>2017-08-31 19:49:00</th>\n",
       "      <td>164.2300</td>\n",
       "    </tr>\n",
       "    <tr>\n",
       "      <th>2017-08-31 19:50:00</th>\n",
       "      <td>164.2100</td>\n",
       "    </tr>\n",
       "    <tr>\n",
       "      <th>2017-08-31 19:51:00</th>\n",
       "      <td>164.1850</td>\n",
       "    </tr>\n",
       "    <tr>\n",
       "      <th>2017-08-31 19:52:00</th>\n",
       "      <td>164.1600</td>\n",
       "    </tr>\n",
       "    <tr>\n",
       "      <th>2017-08-31 19:53:00</th>\n",
       "      <td>164.0600</td>\n",
       "    </tr>\n",
       "    <tr>\n",
       "      <th>2017-08-31 19:54:00</th>\n",
       "      <td>164.1900</td>\n",
       "    </tr>\n",
       "    <tr>\n",
       "      <th>2017-08-31 19:55:00</th>\n",
       "      <td>164.2000</td>\n",
       "    </tr>\n",
       "    <tr>\n",
       "      <th>2017-08-31 19:56:00</th>\n",
       "      <td>164.1400</td>\n",
       "    </tr>\n",
       "    <tr>\n",
       "      <th>2017-08-31 19:57:00</th>\n",
       "      <td>164.1100</td>\n",
       "    </tr>\n",
       "    <tr>\n",
       "      <th>2017-08-31 19:58:00</th>\n",
       "      <td>164.1200</td>\n",
       "    </tr>\n",
       "    <tr>\n",
       "      <th>2017-08-31 19:59:00</th>\n",
       "      <td>164.0100</td>\n",
       "    </tr>\n",
       "    <tr>\n",
       "      <th>2017-08-31 20:00:00</th>\n",
       "      <td>163.8800</td>\n",
       "    </tr>\n",
       "  </tbody>\n",
       "</table>\n",
       "<p>41266 rows × 1 columns</p>\n",
       "</div>"
      ],
      "text/plain": [
       "                     NASDAQ.AAPL\n",
       "DATE                            \n",
       "2017-04-03 13:30:00          NaN\n",
       "2017-04-03 13:31:00     143.6800\n",
       "2017-04-03 13:32:00     143.7000\n",
       "2017-04-03 13:33:00     143.6901\n",
       "2017-04-03 13:34:00     143.6400\n",
       "2017-04-03 13:35:00     143.6600\n",
       "2017-04-03 13:36:00     143.7800\n",
       "2017-04-03 13:37:00     143.8640\n",
       "2017-04-03 13:38:00     143.8100\n",
       "2017-04-03 13:39:00     143.8150\n",
       "2017-04-03 13:40:00     143.8000\n",
       "2017-04-03 13:41:00     143.8900\n",
       "2017-04-03 13:42:00     143.9700\n",
       "2017-04-03 13:43:00     143.9199\n",
       "2017-04-03 13:44:00     144.0239\n",
       "2017-04-03 13:45:00     144.0500\n",
       "2017-04-03 13:46:00     144.0638\n",
       "2017-04-03 13:47:00     144.0200\n",
       "2017-04-03 13:48:00     144.0200\n",
       "2017-04-03 13:49:00     143.9700\n",
       "2017-04-03 13:50:00     144.0300\n",
       "2017-04-03 13:51:00     143.9800\n",
       "2017-04-03 13:52:00     143.9000\n",
       "2017-04-03 13:53:00     143.9100\n",
       "2017-04-03 13:54:00     143.9100\n",
       "2017-04-03 13:55:00     143.8600\n",
       "2017-04-03 13:56:00     143.8600\n",
       "2017-04-03 13:57:00     143.8935\n",
       "2017-04-03 13:58:00     143.9300\n",
       "2017-04-03 13:59:00     143.9500\n",
       "...                          ...\n",
       "2017-08-31 19:31:00     164.0700\n",
       "2017-08-31 19:32:00     164.0700\n",
       "2017-08-31 19:33:00     164.0750\n",
       "2017-08-31 19:34:00     164.1500\n",
       "2017-08-31 19:35:00     164.1300\n",
       "2017-08-31 19:36:00     164.1400\n",
       "2017-08-31 19:37:00     164.1450\n",
       "2017-08-31 19:38:00     164.2050\n",
       "2017-08-31 19:39:00     164.2350\n",
       "2017-08-31 19:40:00     164.2900\n",
       "2017-08-31 19:41:00     164.2800\n",
       "2017-08-31 19:42:00     164.2600\n",
       "2017-08-31 19:43:00     164.2634\n",
       "2017-08-31 19:44:00     164.2400\n",
       "2017-08-31 19:45:00     164.2700\n",
       "2017-08-31 19:46:00     164.2000\n",
       "2017-08-31 19:47:00     164.1350\n",
       "2017-08-31 19:48:00     164.1800\n",
       "2017-08-31 19:49:00     164.2300\n",
       "2017-08-31 19:50:00     164.2100\n",
       "2017-08-31 19:51:00     164.1850\n",
       "2017-08-31 19:52:00     164.1600\n",
       "2017-08-31 19:53:00     164.0600\n",
       "2017-08-31 19:54:00     164.1900\n",
       "2017-08-31 19:55:00     164.2000\n",
       "2017-08-31 19:56:00     164.1400\n",
       "2017-08-31 19:57:00     164.1100\n",
       "2017-08-31 19:58:00     164.1200\n",
       "2017-08-31 19:59:00     164.0100\n",
       "2017-08-31 20:00:00     163.8800\n",
       "\n",
       "[41266 rows x 1 columns]"
      ]
     },
     "execution_count": 14,
     "metadata": {},
     "output_type": "execute_result"
    }
   ],
   "source": [
    "ds_AAPL.shift(1)"
   ]
  },
  {
   "cell_type": "code",
   "execution_count": 15,
   "metadata": {},
   "outputs": [
    {
     "name": "stdout",
     "output_type": "stream",
     "text": [
      "28886\n",
      "12380\n"
     ]
    }
   ],
   "source": [
    "X = ds_AAPL.values\n",
    "train = X[0:28886] # 27 data as train data\n",
    "test = X[28886:] # 9 data as test data\n",
    "print(train.size)\n",
    "print(test.size)\n",
    "predictions = []"
   ]
  },
  {
   "cell_type": "markdown",
   "metadata": {},
   "source": [
    "# ARIMA model"
   ]
  },
  {
   "cell_type": "code",
   "execution_count": 16,
   "metadata": {},
   "outputs": [],
   "source": [
    "from statsmodels.tsa.arima_model import ARIMA"
   ]
  },
  {
   "cell_type": "code",
   "execution_count": 17,
   "metadata": {},
   "outputs": [],
   "source": [
    "import itertools\n",
    "p=d=q=range(0,6)\n",
    "pdq=list(itertools.product(p,d,q))"
   ]
  },
  {
   "cell_type": "code",
   "execution_count": 18,
   "metadata": {},
   "outputs": [
    {
     "name": "stdout",
     "output_type": "stream",
     "text": [
      "(0, 0, 0) 170326.9720446082\n",
      "(0, 0, 1) 131018.03599865627\n",
      "(0, 0, 2) 95780.67244459406\n",
      "(0, 1, 0) -64708.71200636144\n",
      "(0, 1, 1) -64706.87731534093\n",
      "(0, 1, 2) -64718.28609667222\n",
      "(0, 1, 3) -64719.67999909348\n",
      "(0, 1, 4) -64724.74650243514\n",
      "(0, 1, 5) -64723.27395757074\n",
      "(0, 2, 0) -44617.132207470175\n",
      "(0, 2, 1) -64678.291029422355\n",
      "(1, 0, 0) -64703.10601225091\n",
      "(1, 0, 1) -64701.25996943837\n",
      "(1, 0, 2) -64712.56738320901\n",
      "(1, 0, 3) -64714.01381796782\n",
      "(1, 0, 4) -64719.007412272535\n",
      "(1, 0, 5) -64717.51647331283\n",
      "(1, 1, 0) -64706.87029558887\n",
      "(1, 1, 1) -64714.631574461106\n",
      "(1, 1, 2) -64725.38695947484\n",
      "(1, 2, 0) -52566.600243590554\n",
      "(1, 2, 1) -64686.66073688936\n",
      "(1, 2, 2) -64694.12457885871\n",
      "(1, 2, 3) -64703.94049584294\n",
      "(1, 2, 4) -64699.29727272304\n",
      "(1, 2, 5) -64699.3277847648\n",
      "(2, 0, 0) -64701.253453746176\n",
      "(2, 0, 3) -64717.71698031027\n",
      "(2, 0, 4) -64716.79946573239\n",
      "(2, 0, 5) -64715.504006931325\n",
      "(2, 1, 0) -64717.93086790609\n",
      "(2, 1, 1) -64725.40306363006\n",
      "(2, 2, 0) -56350.17877202212\n",
      "(2, 2, 1) -64659.77291902456\n",
      "(2, 2, 2) -64677.504069307484\n",
      "(2, 2, 3) -64691.487759045776\n",
      "(2, 2, 4) -64685.85173453287\n",
      "(2, 2, 5) -64693.676663995444\n",
      "(3, 0, 0) -64712.215473283984\n",
      "(3, 0, 4) -64716.6550148259\n",
      "(3, 0, 5) -64715.345797731425\n",
      "(3, 1, 0) -64719.318969943226\n",
      "(3, 2, 0) -58063.13991574159\n",
      "(3, 2, 1) -64689.62628002967\n",
      "(3, 2, 2) -64694.6118388567\n",
      "(3, 2, 3) -64683.64257883599\n",
      "(3, 2, 4) -64690.80372719797\n",
      "(3, 2, 5) -64691.37480506716\n",
      "(4, 0, 0) -64713.65383197155\n",
      "(4, 0, 1) -64717.72973575452\n",
      "(4, 0, 5) -64736.71614963835\n",
      "(4, 1, 0) -64724.01865458525\n",
      "(4, 2, 0) -59269.36850055611\n",
      "(4, 2, 1) -64692.3500666702\n",
      "(4, 2, 2) -64639.31393088335\n",
      "(4, 2, 3) -64672.28611229842\n",
      "(4, 2, 4) -64688.69414642807\n",
      "(4, 2, 5) -64696.560623419165\n",
      "(5, 0, 0) -64718.28359407387\n",
      "(5, 0, 1) -64716.7328898611\n",
      "(5, 0, 2) -64716.61860273758\n",
      "(5, 0, 3) -64727.395864885824\n",
      "(5, 1, 0) -64722.57419426118\n",
      "(5, 2, 0) -60006.91481457047\n",
      "(5, 2, 1) -64703.67372450266\n",
      "(5, 2, 2) -64703.709358492735\n",
      "(5, 2, 3) -64625.67111332914\n",
      "(5, 2, 4) -64646.312159147186\n",
      "(5, 2, 5) -64687.473846100926\n"
     ]
    }
   ],
   "source": [
    "import warnings\n",
    "warnings.filterwarnings('ignore')\n",
    "for param in pdq:\n",
    "    try:\n",
    "        model_arima = ARIMA(train, order=param)\n",
    "        model_arima_fit = model_arima.fit()\n",
    "        print(param,model_arima_fit.aic)\n",
    "    except:\n",
    "        continue"
   ]
  },
  {
   "cell_type": "code",
   "execution_count": 21,
   "metadata": {},
   "outputs": [
    {
     "name": "stdout",
     "output_type": "stream",
     "text": [
      "-64688.69414642807\n"
     ]
    }
   ],
   "source": [
    "#p,d,q \n",
    "#p -> Periods taken for auto regressive model\n",
    "#d -> Integrated order, difference\n",
    "#q -> Periods in moving average model\n",
    "model_arima = ARIMA(train, order=(4,2,4))\n",
    "model_arima_fit = model_arima.fit()\n",
    "print(model_arima_fit.aic)"
   ]
  },
  {
   "cell_type": "code",
   "execution_count": 22,
   "metadata": {},
   "outputs": [
    {
     "data": {
      "text/plain": [
       "array([150.61420372, 150.61623654, 150.618321  , ..., 182.50969853,\n",
       "       182.51267375, 182.51564904])"
      ]
     },
     "execution_count": 22,
     "metadata": {},
     "output_type": "execute_result"
    }
   ],
   "source": [
    "predictions = model_arima_fit.forecast(steps=12380)[0]\n",
    "predictions"
   ]
  },
  {
   "cell_type": "code",
   "execution_count": 23,
   "metadata": {},
   "outputs": [
    {
     "data": {
      "text/plain": [
       "[<matplotlib.lines.Line2D at 0x1f282438>]"
      ]
     },
     "execution_count": 23,
     "metadata": {},
     "output_type": "execute_result"
    },
    {
     "data": {
      "image/png": "[encoded data removed]",
      "text/plain": [
       "<Figure size 432x288 with 1 Axes>"
      ]
     },
     "metadata": {
      "needs_background": "light"
     },
     "output_type": "display_data"
    }
   ],
   "source": [
    "plt.plot(test)\n",
    "plt.plot(predictions, color='red')"
   ]
  },
  {
   "cell_type": "code",
   "execution_count": 24,
   "metadata": {},
   "outputs": [
    {
     "data": {
      "text/plain": [
       "112.53839839492369"
      ]
     },
     "execution_count": 24,
     "metadata": {},
     "output_type": "execute_result"
    }
   ],
   "source": [
    "from sklearn.metrics import mean_squared_error\n",
    "mean_squared_error(test,predictions)"
   ]
  },
  {
   "cell_type": "markdown",
   "metadata": {},
   "source": [
    "The above forecasting done for NASDAQ.AAPL"
   ]
  },
  {
   "cell_type": "code",
   "execution_count": null,
   "metadata": {},
   "outputs": [],
   "source": []
  }
 ],
 "metadata": {
  "kernelspec": {
   "display_name": "Python 3",
   "language": "python",
   "name": "python3"
  },
  "language_info": {
   "codemirror_mode": {
    "name": "ipython",
    "version": 3
   },
   "file_extension": ".py",
   "mimetype": "text/x-python",
   "name": "python",
   "nbconvert_exporter": "python",
   "pygments_lexer": "ipython3",
   "version": "3.7.1"
  }
 },
 "nbformat": 4,
 "nbformat_minor": 2
}
